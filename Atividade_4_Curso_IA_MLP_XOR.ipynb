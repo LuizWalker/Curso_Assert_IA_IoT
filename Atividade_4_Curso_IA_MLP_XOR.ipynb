{
  "nbformat": 4,
  "nbformat_minor": 0,
  "metadata": {
    "colab": {
      "provenance": [],
      "authorship_tag": "ABX9TyMnU0vyBv6ruYsVSaxlCG2a",
      "include_colab_link": true
    },
    "kernelspec": {
      "name": "python3",
      "display_name": "Python 3"
    },
    "language_info": {
      "name": "python"
    }
  },
  "cells": [
    {
      "cell_type": "markdown",
      "metadata": {
        "id": "view-in-github",
        "colab_type": "text"
      },
      "source": [
        "<a href=\"https://colab.research.google.com/github/LuizWalker/Curso_Assert_IA_IoT/blob/main/Atividade_4_Curso_IA_MLP_XOR.ipynb\" target=\"_parent\"><img src=\"https://colab.research.google.com/assets/colab-badge.svg\" alt=\"Open In Colab\"/></a>"
      ]
    },
    {
      "cell_type": "code",
      "execution_count": null,
      "metadata": {
        "id": "SlzVXwEVbD4N"
      },
      "outputs": [],
      "source": [
        "## Exercício 1 - Problema do XOR\n",
        "\n",
        "# 1- Importar o modelo MLP do sklearn\n",
        "# 2- Instanciar o modelo escolhendo uma topologia para a rede, função de ativação e número de épocas de execução até 100% de acerto\n",
        "# 3- Treinar o modelo com os dados de treinamento\n",
        "# 4- Fazer o predict com os dados de treinamento\n",
        "# 5- Comparar o resultado do predict com o vetor"
      ]
    },
    {
      "cell_type": "code",
      "source": [
        "import numpy as np\n",
        "from sklearn.neural_network import MLPClassifier\n",
        "from sklearn.model_selection import train_test_split\n",
        "\n",
        "x = np.array([[0, 0], [0, 1], [1, 0], [1, 1]])\n",
        "y = np.array([0, 1, 1, 0])\n",
        "\n",
        "\n",
        "rede = MLPClassifier(hidden_layer_sizes=(32,32), activation='tanh',solver='adam',max_iter=20000) #sgd é a única que não acerta 100%\n",
        "rede = rede.fit(x,y)\n",
        "\n",
        "resultado = rede.predict(x)\n",
        "\n",
        "score = rede.score(x,y)\n",
        "\n",
        "print(resultado)\n",
        "\n",
        "print(score)"
      ],
      "metadata": {
        "colab": {
          "base_uri": "https://localhost:8080/"
        },
        "id": "oyMGn2twbKkP",
        "outputId": "cb0ef5ce-c589-48b7-b517-779b98d5456b"
      },
      "execution_count": null,
      "outputs": [
        {
          "output_type": "stream",
          "name": "stdout",
          "text": [
            "[0 1 1 0]\n",
            "1.0\n"
          ]
        }
      ]
    }
  ]
}